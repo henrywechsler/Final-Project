{
 "cells": [
  {
   "cell_type": "code",
   "execution_count": 1,
   "metadata": {},
   "outputs": [],
   "source": [
    "import requests\n",
    "import csv \n",
    "import json\n",
    "import datetime # got this from google  \n"
   ]
  },
  {
   "cell_type": "code",
   "execution_count": 3,
   "metadata": {},
   "outputs": [],
   "source": [
    "api_key = 'v4HTRgnYY94GBteg3f2py73d3wGVDgMD4sgLZtWP'\n",
    "version = 'v8'\n",
    "language_code = 'en'\n",
    "format = 'json'\n",
    "base_link = 'https://api.sportradar.com/nba/trial/v8/en/games/'"
   ]
  },
  {
   "cell_type": "code",
   "execution_count": 21,
   "metadata": {},
   "outputs": [
    {
     "name": "stdout",
     "output_type": "stream",
     "text": [
      "{1: ['55f44c7f-7fd7-4a3e-9c99-64d23577f108', ' Orlando Magic @ Charlotte Hornets'], 2: ['80d86c7b-c89c-4ff8-b253-c8989296a0d4', ' Portland Trail Blazers @ Washington Wizards'], 3: ['cf6788e6-399e-4226-9691-af390d44c8d6', ' Oklahoma City Thunder @ Indiana Pacers'], 4: ['4cc1a0a3-b8f9-4a5b-afe3-d8f3de4ac996', ' Sacramento Kings @ Boston Celtics'], 5: ['632e819d-836d-4895-80cb-3adb8e28076c', ' San Antonio Spurs @ New Orleans Pelicans'], 6: ['a01a84c9-2118-464f-a94c-c59db9961e30', ' Detroit Pistons @ Memphis Grizzlies'], 7: ['ae003ab1-8065-49d9-b12b-54f95d38c863', ' Miami Heat @ Houston Rockets'], 8: ['cb75bb4f-4c62-41a2-bf81-6fa45f2950ca', ' New York Knicks @ Chicago Bulls'], 9: ['ec871d98-d832-41a1-9de4-4f57ec4b00db', ' Toronto Raptors @ Milwaukee Bucks'], 10: ['181233f8-63c0-460f-97bb-cc3255a7167e', ' Golden State Warriors @ Dallas Mavericks'], 11: ['0fb1ab62-6352-4841-8ecb-ff886ab1791a', ' Minnesota Timberwolves @ Phoenix Suns'], 12: ['8c231b19-cf11-4ca4-9972-25ff280a83cf', ' Utah Jazz @ LA Clippers']}\n"
     ]
    },
    {
     "ename": "KeyError",
     "evalue": "'away'",
     "output_type": "error",
     "traceback": [
      "\u001b[0;31m---------------------------------------------------------------------------\u001b[0m",
      "\u001b[0;31mKeyError\u001b[0m                                  Traceback (most recent call last)",
      "Cell \u001b[0;32mIn[21], line 59\u001b[0m\n\u001b[1;32m     57\u001b[0m \u001b[38;5;28mid\u001b[39m \u001b[38;5;241m=\u001b[39m run\u001b[38;5;241m.\u001b[39mgame_id()\n\u001b[1;32m     58\u001b[0m \u001b[38;5;28mprint\u001b[39m(\u001b[38;5;28mid\u001b[39m)\n\u001b[0;32m---> 59\u001b[0m \u001b[43mrun\u001b[49m\u001b[38;5;241;43m.\u001b[39;49m\u001b[43mBox_scores\u001b[49m\u001b[43m(\u001b[49m\u001b[38;5;28;43mid\u001b[39;49m\u001b[43m)\u001b[49m  \n",
      "Cell \u001b[0;32mIn[21], line 40\u001b[0m, in \u001b[0;36mLive_Schedule_and_Data.Box_scores\u001b[0;34m(self, game_id)\u001b[0m\n\u001b[1;32m     38\u001b[0m headers \u001b[38;5;241m=\u001b[39m {\u001b[38;5;124m\"\u001b[39m\u001b[38;5;124maccept\u001b[39m\u001b[38;5;124m\"\u001b[39m: \u001b[38;5;124m\"\u001b[39m\u001b[38;5;124mapplication/json\u001b[39m\u001b[38;5;124m\"\u001b[39m}\n\u001b[1;32m     39\u001b[0m game \u001b[38;5;241m=\u001b[39m requests\u001b[38;5;241m.\u001b[39mget(url, headers\u001b[38;5;241m=\u001b[39mheaders)\u001b[38;5;241m.\u001b[39mjson()\n\u001b[0;32m---> 40\u001b[0m away_team \u001b[38;5;241m=\u001b[39m \u001b[43mgame\u001b[49m\u001b[43m[\u001b[49m\u001b[38;5;124;43m'\u001b[39;49m\u001b[38;5;124;43maway\u001b[39;49m\u001b[38;5;124;43m'\u001b[39;49m\u001b[43m]\u001b[49m[\u001b[38;5;124m'\u001b[39m\u001b[38;5;124mname\u001b[39m\u001b[38;5;124m'\u001b[39m]\n\u001b[1;32m     41\u001b[0m home_team \u001b[38;5;241m=\u001b[39m game[\u001b[38;5;124m'\u001b[39m\u001b[38;5;124mhome\u001b[39m\u001b[38;5;124m'\u001b[39m][\u001b[38;5;124m'\u001b[39m\u001b[38;5;124mname\u001b[39m\u001b[38;5;124m'\u001b[39m]\n\u001b[1;32m     42\u001b[0m away_score \u001b[38;5;241m=\u001b[39m game[\u001b[38;5;124m'\u001b[39m\u001b[38;5;124maway\u001b[39m\u001b[38;5;124m'\u001b[39m][\u001b[38;5;124m'\u001b[39m\u001b[38;5;124mpoints\u001b[39m\u001b[38;5;124m'\u001b[39m]\n",
      "\u001b[0;31mKeyError\u001b[0m: 'away'"
     ]
    }
   ],
   "source": [
    "import requests\n",
    "import csv \n",
    "import json\n",
    "import datetime\n",
    "\n",
    "class Live_Schedule_and_Data():\n",
    "    def __init__(self) -> None:\n",
    "        pass\n",
    "    \n",
    "    def game_id(self):\n",
    "        date = datetime.date.today().strftime('%Y/%m/%d')\n",
    "        url = f\"https://api.sportradar.com/nba/trial/v8/en/games/{date}/schedule.json?api_key=v4HTRgnYY94GBteg3f2py73d3wGVDgMD4sgLZtWP\"\n",
    "        headers = {\"accept\": \"application/json\"}\n",
    "        game = requests.get(url, headers=headers).json()\n",
    "        x = 0\n",
    "        internal_id = 1\n",
    "        todays_game_dict = {}\n",
    "        while IndexError is not True:\n",
    "            try:\n",
    "                home_team = game['games'][x]['home']['name']\n",
    "                away_team = game['games'][x]['away']['name']\n",
    "                game_id = game['games'][x]['id']\n",
    "                todays_game_dict.update({internal_id:[game_id, f' {away_team} @ {home_team}']})\n",
    "                x+=1\n",
    "                internal_id +=1        \n",
    "            except:\n",
    "                break\n",
    "        return todays_game_dict\n",
    "\n",
    "    def Box_scores(self,game_id):\n",
    "            id = game_id\n",
    "            x = 1\n",
    "            internal_id = 1\n",
    "            Box_score = {}\n",
    "            while IndexError or KeyError is not True:\n",
    "                try:\n",
    "                    url = f\"https://api.sportradar.com/nba/trial/v8/en/games/{id[x][0]}/boxscore.json?api_key=v4HTRgnYY94GBteg3f2py73d3wGVDgMD4sgLZtWP\"\n",
    "                    headers = {\"accept\": \"application/json\"}\n",
    "                    game = requests.get(url, headers=headers).json()\n",
    "                    away_team = game['away']['name']\n",
    "                    home_team = game['home']['name']\n",
    "                    away_score = game['away']['points']\n",
    "                    home_score = game['home']['points']\n",
    "                    away_timeouts_remaning = game['away']['remaining_timeouts']\n",
    "                    home_timeouts_remaning = game['home']['remaining_timeouts']\n",
    "                    score = (f'{away_team}: {away_score} | {home_team}: {home_score}')\n",
    "                    timeouts = (f'{away_team} Remaings Timouts: {away_timeouts_remaning} | {home_team} Remaings Timouts: {home_timeouts_remaning}')\n",
    "                    Box_score.update({internal_id:[score,timeouts]})\n",
    "                    x+=1\n",
    "                    internal_id +=1\n",
    "                except IndexError or KeyError:\n",
    "                    break\n",
    "            return Box_score\n",
    "    \n",
    "    \n",
    "run = Live_Schedule_and_Data()\n",
    "id = run.game_id()\n",
    "print(id)\n",
    "run.Box_scores(id)  "
   ]
  },
  {
   "cell_type": "code",
   "execution_count": null,
   "metadata": {},
   "outputs": [],
   "source": [
    "#Quarter results\n",
    "\n",
    "\n",
    "url = f\"https://api.sportradar.com/nba/trial/v8/en/games/19791516-2ffd-49b1-b9e1-4553eb6927ec/boxscore.json?api_key=v4HTRgnYY94GBteg3f2py73d3wGVDgMD4sgLZtWP\"\n",
    "headers = {\"accept\": \"application/json\"}\n",
    "response = requests.get(url, headers=headers).json()\n",
    "\n",
    "game = response\n",
    "away_team = game['away']['name']\n",
    "home_team = game['home']['name']\n",
    "away_score = game['away']['points']\n",
    "home_score = game['home']['points']\n",
    "away_timeouts_remaning = game['away']['remaining_timeouts']\n",
    "home_timeouts_remaning = game['home']['remaining_timeouts']\n",
    "away_scoring = game['away']['scoring']\n",
    "home_scoring = game['home']['scoring']\n",
    "\n",
    "print(f'{away_team}: {away_score} | {home_team}: {home_score}')\n",
    "print(f'{away_scoring} | {home_scoring}')\n",
    "print(f'{away_team} Remaings Timouts: {away_timeouts_remaning} | {home_team} Remaings Timouts: {home_timeouts_remaning}')\n",
    "print('________________________________________________')"
   ]
  },
  {
   "cell_type": "code",
   "execution_count": 16,
   "metadata": {},
   "outputs": [],
   "source": [
    "def play_by_play(game_id):\n",
    "  id = game_id\n",
    "  x = 0\n",
    "  while IndexError is not True:\n",
    "    try:   \n",
    "      url = f\"https://api.sportradar.com/nba/trial/v8/en/games/{id[x][0]}/pbp.json?api_key=v4HTRgnYY94GBteg3f2py73d3wGVDgMD4sgLZtWP\"\n",
    "      headers = {\"accept\": \"application/json\"}\n",
    "      game = requests.get(url, headers=headers).json()\n",
    "      quarter = game['quarter']\n",
    "      clock = game['clock']\n",
    "      hteam = game['home']['name']\n",
    "      ateam = game['away']['name']\n",
    "      team = ateam or hteam\n",
    "      pbp = []\n",
    "      y = 0\n",
    "      \n",
    "      for key in id.keys():\n",
    "        new_dict = {}\n",
    "        locals()[key] = new_dict\n",
    "        \n",
    "      if quarter == 1:\n",
    "        while IndexError is not True:\n",
    "            try:\n",
    "              description = game['periods'][0]['events'][y]['description']\n",
    "              time_it_occured = game['periods'][0]['events'][y]['clock']\n",
    "              game['periods'][0]['events'][y]['attribution']['name']\n",
    "              pbp.append(f' {team}: {description} at {time_it_occured}')\n",
    "              y+=1\n",
    "            except:\n",
    "              pass\n",
    "      elif quarter == 2:\n",
    "        while IndexError is not True:\n",
    "            try:\n",
    "              description = game['periods'][1]['events'][y]['description']\n",
    "              time_it_occured = game['periods'][1]['events'][y]['clock']\n",
    "              team = game['periods'][1]['events'][y]['attribution']['name']\n",
    "              pbp.append(f' {team}: {description} at {time_it_occured}')\n",
    "              y+=1\n",
    "            except:\n",
    "              pass  \n",
    "      elif quarter == 3:\n",
    "        while IndexError is not True:\n",
    "            try:\n",
    "              description = game['periods'][2]['events'][y]['description']\n",
    "              time_it_occured = game['periods'][2]['events'][y]['clock']\n",
    "              game['periods'][2]['events'][y]['attribution']['name']\n",
    "              pbp.append(f' {team}: {description} at {time_it_occured}')\n",
    "              y+=1\n",
    "            except:\n",
    "              pass\n",
    "      elif quarter == 4:\n",
    "        while IndexError is not True:\n",
    "            try:\n",
    "              description = game['periods'][3]['events'][y]['description']\n",
    "              time_it_occured = game['periods'][3]['events'][y]['clock']\n",
    "              game['periods'][3]['events'][y]['attribution']['name']\n",
    "              pbp.append(f' {team}: {description} at {time_it_occured}')\n",
    "              y+=1\n",
    "            except:\n",
    "              pass\n",
    "      x+=1\n",
    "      print(pbp)\n",
    "    except:\n",
    "      break\n",
    "\n",
    "\n",
    "\n",
    "id = Todays_game_id()\n",
    "play_by_play(id)"
   ]
  },
  {
   "cell_type": "code",
   "execution_count": 7,
   "metadata": {},
   "outputs": [
    {
     "name": "stdout",
     "output_type": "stream",
     "text": [
      "[]\n",
      "[]\n",
      "[]\n"
     ]
    }
   ],
   "source": [
    "key_dict = {'key1': None, 'key2': None, 'key3': None, 'key4':None}\n",
    "\n",
    "# Loop through the keys of the dictionary and create separate lists for each key\n",
    "for key in key_dict.keys():\n",
    "    # Create a new empty list for the current key\n",
    "    new_list = []\n",
    "    \n",
    "    # Dynamically create variables with the names of the keys and assign the lists to them\n",
    "    locals()[key] = new_list\n",
    "    \n",
    "\n",
    "# Now you can access the lists using the variable names assigned dynamically  # Output: []"
   ]
  },
  {
   "cell_type": "markdown",
   "metadata": {},
   "source": [
    "\n",
    "\n",
    "For the Pbp above we need to be able to create diffrent list for the diffrent games or we move them to a csv and have that csv be named based off the game. Then we will need a text reader inorder to read that stuff off of the csv.\n",
    "\n",
    "refresh version"
   ]
  },
  {
   "cell_type": "markdown",
   "metadata": {},
   "source": []
  }
 ],
 "metadata": {
  "kernelspec": {
   "display_name": "Python 3",
   "language": "python",
   "name": "python3"
  },
  "language_info": {
   "codemirror_mode": {
    "name": "ipython",
    "version": 3
   },
   "file_extension": ".py",
   "mimetype": "text/x-python",
   "name": "python",
   "nbconvert_exporter": "python",
   "pygments_lexer": "ipython3",
   "version": "3.11.4"
  }
 },
 "nbformat": 4,
 "nbformat_minor": 2
}
