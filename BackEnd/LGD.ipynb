{
 "cells": [
  {
   "cell_type": "code",
   "execution_count": 2,
   "metadata": {},
   "outputs": [],
   "source": [
    "import requests\n",
    "import csv \n",
    "import json\n",
    "import datetime # got this from google  \n"
   ]
  },
  {
   "cell_type": "code",
   "execution_count": 3,
   "metadata": {},
   "outputs": [],
   "source": [
    "api_key = 'v4HTRgnYY94GBteg3f2py73d3wGVDgMD4sgLZtWP'\n",
    "version = 'v8'\n",
    "language_code = 'en'\n",
    "format = 'json'\n",
    "base_link = 'https://api.sportradar.com/nba/trial/v8/en/games/'"
   ]
  },
  {
   "cell_type": "code",
   "execution_count": 7,
   "metadata": {},
   "outputs": [
    {
     "data": {
      "text/plain": [
       "['2a12cef9-1615-4ec6-a709-bdf4cfb1aae7',\n",
       " '34a90621-b50e-4cbc-93dd-74a7c4216eb0',\n",
       " '34d50d9b-e65d-42bb-aecc-8efc7a90ba5a',\n",
       " 'ba926890-b722-4628-aac6-1963963d8e83',\n",
       " '2d62d8ab-f6fd-45b2-94f7-49622180067f']"
      ]
     },
     "execution_count": 7,
     "metadata": {},
     "output_type": "execute_result"
    }
   ],
   "source": [
    "def Todays_game_id():\n",
    "    date = datetime.date.today().strftime('%Y/%m/%d')\n",
    "    url = f\"https://api.sportradar.com/nba/trial/v8/en/games/{date}/schedule.json?api_key=v4HTRgnYY94GBteg3f2py73d3wGVDgMD4sgLZtWP\"\n",
    "    headers = {\"accept\": \"application/json\"}\n",
    "    game = requests.get(url, headers=headers).json()\n",
    "    x = 0\n",
    "    game_id_list =[]\n",
    "    while IndexError is not True:\n",
    "        try:\n",
    "            game_id = game['games'][x]['id']\n",
    "            game_id_list.append(game_id)\n",
    "            x+=1        \n",
    "        except:\n",
    "            break\n",
    "    return game_id_list\n",
    "Todays_game_id()"
   ]
  },
  {
   "cell_type": "code",
   "execution_count": 8,
   "metadata": {},
   "outputs": [
    {
     "data": {
      "text/plain": [
       "['Atlanta Hawks @ Dallas Mavericks',\n",
       " 'Philadelphia 76ers @ Miami Heat',\n",
       " 'Sacramento Kings @ New York Knicks',\n",
       " 'Golden State Warriors @ Houston Rockets',\n",
       " 'Denver Nuggets @ LA Clippers']"
      ]
     },
     "execution_count": 8,
     "metadata": {},
     "output_type": "execute_result"
    }
   ],
   "source": [
    "def Todays_schedule_for_Display():\n",
    "    date = datetime.date.today().strftime('%Y/%m/%d')\n",
    "    url = f\"https://api.sportradar.com/nba/trial/v8/en/games/{date}/schedule.json?api_key=v4HTRgnYY94GBteg3f2py73d3wGVDgMD4sgLZtWP\"\n",
    "    headers = {\"accept\": \"application/json\"}\n",
    "    game = requests.get(url, headers=headers).json()\n",
    "    x = 0\n",
    "    Todays_matchups = [] \n",
    "    while IndexError is not True:\n",
    "        try:\n",
    "                home_team = game['games'][x]['home']['name']\n",
    "                away_team = game['games'][x]['away']['name']\n",
    "                Todays_matchups.append(f'{away_team} @ {home_team}')\n",
    "                x+=1\n",
    "    \n",
    "        except:\n",
    "            break\n",
    "    return Todays_matchups\n",
    "Todays_schedule_for_Display()"
   ]
  },
  {
   "cell_type": "code",
   "execution_count": null,
   "metadata": {},
   "outputs": [],
   "source": [
    "def Box_scores(game_id):\n",
    "    id = game_id\n",
    "    x= 0\n",
    "    while IndexError is not True:\n",
    "        try:\n",
    "            url = f\"https://api.sportradar.com/nba/trial/v8/en/games/{id[x]}/boxscore.json?api_key=v4HTRgnYY94GBteg3f2py73d3wGVDgMD4sgLZtWP\"\n",
    "            headers = {\"accept\": \"application/json\"}\n",
    "            game = requests.get(url, headers=headers).json()\n",
    "            away_team = game['away']['name']\n",
    "            home_team = game['home']['name']\n",
    "            away_score = game['away']['points']\n",
    "            home_score = game['home']['points']\n",
    "            away_timeouts_remaning = game['away']['remaining_timeouts']\n",
    "            home_timeouts_remaning = game['home']['remaining_timeouts']\n",
    "        \n",
    "            \n",
    "            print(f'{away_team}: {away_score} | {home_team}: {home_score}')\n",
    "            print(f'{away_team} Remaings Timouts: {away_timeouts_remaning} | {home_team} Remaings Timouts: {home_timeouts_remaning}')\n",
    "            print('________________________________________________')\n",
    "            x+=1\n",
    "            \n",
    "        except:\n",
    "            break\n",
    "    \n",
    "Box_scores(Todays_game_id())   \n",
    "\n"
   ]
  },
  {
   "cell_type": "code",
   "execution_count": null,
   "metadata": {},
   "outputs": [],
   "source": [
    "#Not sure what this is for??\n",
    "\n",
    "\n",
    "game_id= Todays_schedule_for_Display()\n",
    "\n",
    "\n",
    "url = f\"https://api.sportradar.com/nba/trial/v8/en/games/19791516-2ffd-49b1-b9e1-4553eb6927ec/boxscore.json?api_key=v4HTRgnYY94GBteg3f2py73d3wGVDgMD4sgLZtWP\"\n",
    "headers = {\"accept\": \"application/json\"}\n",
    "response = requests.get(url, headers=headers).json()\n",
    "\n",
    "game = response\n",
    "away_team = game['away']['name']\n",
    "home_team = game['home']['name']\n",
    "away_score = game['away']['points']\n",
    "home_score = game['home']['points']\n",
    "away_timeouts_remaning = game['away']['remaining_timeouts']\n",
    "home_timeouts_remaning = game['home']['remaining_timeouts']\n",
    "away_scoring = game['away']['scoring']\n",
    "home_scoring = game['home']['scoring']\n",
    "\n",
    "print(f'{away_team}: {away_score} | {home_team}: {home_score}')\n",
    "print(f'{away_scoring} | {home_scoring}')\n",
    "print(f'{away_team} Remaings Timouts: {away_timeouts_remaning} | {home_team} Remaings Timouts: {home_timeouts_remaning}')\n",
    "print('________________________________________________')"
   ]
  },
  {
   "cell_type": "code",
   "execution_count": 16,
   "metadata": {},
   "outputs": [],
   "source": [
    "def play_by_play(game_id):\n",
    "  id = game_id\n",
    "  x = 0\n",
    "  while IndexError is not True:\n",
    "    try:   \n",
    "      url = f\"https://api.sportradar.com/nba/trial/v8/en/games/{id[x]}/pbp.json?api_key=v4HTRgnYY94GBteg3f2py73d3wGVDgMD4sgLZtWP\"\n",
    "      headers = {\"accept\": \"application/json\"}\n",
    "      game = requests.get(url, headers=headers).json()\n",
    "      quarter = game['quarter']\n",
    "      clock = game['clock']\n",
    "      hteam = game['home']['name']\n",
    "      ateam = game['away']['name']\n",
    "      pbp = []\n",
    "      y = 0\n",
    "      \n",
    "      {game_id; []}\n",
    "      if quarter == 1:\n",
    "        while IndexError is not True:\n",
    "            try:\n",
    "              description = game['periods'][0]['events'][y]['description']\n",
    "              time_it_occured = game['periods'][0]['events'][y]['clock']\n",
    "              game['periods'][0]['events'][y]['attribution']['name']\n",
    "              pbp.append(f' {team}: {description} at {time_it_occured}')\n",
    "              y+=1\n",
    "            except:\n",
    "              pass\n",
    "      elif quarter == 2:\n",
    "        while IndexError is not True:\n",
    "            try:\n",
    "              description = game['periods'][1]['events'][y]['description']\n",
    "              time_it_occured = game['periods'][1]['events'][y]['clock']\n",
    "              team = game['periods'][1]['events'][y]['attribution']['name']\n",
    "              pbp.append(f' {team}: {description} at {time_it_occured}')\n",
    "              y+=1\n",
    "            except:\n",
    "              pass  \n",
    "      elif quarter == 3:\n",
    "        while IndexError is not True:\n",
    "            try:\n",
    "              description = game['periods'][2]['events'][y]['description']\n",
    "              time_it_occured = game['periods'][2]['events'][y]['clock']\n",
    "              game['periods'][2]['events'][y]['attribution']['name']\n",
    "              pbp.append(f' {team}: {description} at {time_it_occured}')\n",
    "              y+=1\n",
    "            except:\n",
    "              pass\n",
    "      elif quarter == 4:\n",
    "        while IndexError is not True:\n",
    "            try:\n",
    "              description = game['periods'][3]['events'][y]['description']\n",
    "              time_it_occured = game['periods'][3]['events'][y]['clock']\n",
    "              game['periods'][3]['events'][y]['attribution']['name']\n",
    "              pbp.append(f' {team}: {description} at {time_it_occured}')\n",
    "              y+=1\n",
    "            except:\n",
    "              pass\n",
    "      x+=1\n",
    "      print(pbp)\n",
    "    except:\n",
    "      break\n",
    "\n",
    "\n",
    "\n",
    "id = Todays_game_id()\n",
    "play_by_play(id)"
   ]
  },
  {
   "cell_type": "markdown",
   "metadata": {},
   "source": [
    "\n",
    "\n",
    "For the Pbp above we need to be able to create diffrent list for the diffrent games or we move them to a csv and have that csv be named based off the game. Then we will need a text reader inorder to read that stuff off of the csv.\n",
    "\n",
    "refresh version"
   ]
  },
  {
   "cell_type": "markdown",
   "metadata": {},
   "source": []
  }
 ],
 "metadata": {
  "kernelspec": {
   "display_name": "Python 3",
   "language": "python",
   "name": "python3"
  },
  "language_info": {
   "codemirror_mode": {
    "name": "ipython",
    "version": 3
   },
   "file_extension": ".py",
   "mimetype": "text/x-python",
   "name": "python",
   "nbconvert_exporter": "python",
   "pygments_lexer": "ipython3",
   "version": "3.11.4"
  }
 },
 "nbformat": 4,
 "nbformat_minor": 2
}
