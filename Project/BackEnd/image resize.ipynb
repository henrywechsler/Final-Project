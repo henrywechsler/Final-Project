{
 "cells": [
  {
   "cell_type": "code",
   "execution_count": 12,
   "metadata": {},
   "outputs": [],
   "source": [
    "from PIL import Image\n",
    "\n",
    "x = 0\n",
    "nba_team_aliases = [\"DEN\",\"MIA\",\"MIL\",\"MIN\",\"NOP\",\"NYK\", \"OKC\", \"ORL\",\"PHI\", \"PHX\", \"POR\", \"SAC\",\"SAS\", \"TOR\",\"UTA\",\"WAS\"]\n",
    "\n",
    "\n",
    "\n",
    "path = f'/Users/ianhanauer/Desktop/College/Python151/Final-Project/Project/BackEnd/Nba_logo.jpeg'\n",
    "im = Image.open(path) \n",
    "new_width  = 400\n",
    "new_height = 200\n",
    "im = im.resize((new_width, new_height), Image.Resampling.LANCZOS)\n",
    "new_path = f\"/Users/ianhanauer/Desktop/College/Python151/Final-Project/Project/BackEnd/Nba_logo.png\"\n",
    "im.save(new_path)\n"
   ]
  },
  {
   "cell_type": "markdown",
   "metadata": {},
   "source": []
  },
  {
   "cell_type": "code",
   "execution_count": 1,
   "metadata": {},
   "outputs": [
    {
     "data": {
      "text/plain": [
       "{'Cleveland Cavaliers @ LA Clippers': ['4745fe91-de57-438a-a696-5021a99d116b',\n",
       "  'CLE',\n",
       "  'LAC'],\n",
       " 'Houston Rockets @ Dallas Mavericks': ['cf97a76a-7982-4c1a-8b87-b58ee06f54f8',\n",
       "  'HOU',\n",
       "  'DAL'],\n",
       " 'Miami Heat @ Indiana Pacers': ['2a54d6ea-e0e0-4160-91be-232c2b1bce19',\n",
       "  'MIA',\n",
       "  'IND'],\n",
       " 'Oklahoma City Thunder @ Charlotte Hornets': ['06ce2aaf-baf1-4c35-b958-bf5c777cda40',\n",
       "  'OKC',\n",
       "  'CHA'],\n",
       " 'New Orleans Pelicans @ Phoenix Suns': ['77f0a7d7-b408-4511-a07d-39834e592086',\n",
       "  'NOP',\n",
       "  'PHX'],\n",
       " 'Chicago Bulls @ Orlando Magic': ['7b9b7327-df9e-4327-915d-bff52b69bdd1',\n",
       "  'CHI',\n",
       "  'ORL'],\n",
       " 'Washington Wizards @ Toronto Raptors': ['8269a2d3-a5b9-4a04-852d-98e30c890b14',\n",
       "  'WAS',\n",
       "  'TOR'],\n",
       " 'Portland Trail Blazers @ Boston Celtics': ['dc229f3c-ce12-41bc-bc6b-4c601c07c975',\n",
       "  'POR',\n",
       "  'BOS'],\n",
       " 'New York Knicks @ Milwaukee Bucks': ['125a939c-4404-499e-94d0-7ca4afeda0c7',\n",
       "  'NYK',\n",
       "  'MIL'],\n",
       " 'Philadelphia 76ers @ San Antonio Spurs': ['3654fccb-cac4-46cd-a81f-954dc30040cc',\n",
       "  'PHI',\n",
       "  'SAS'],\n",
       " 'Sacramento Kings @ Brooklyn Nets': ['9bdb4108-4edb-42ad-8841-dbc956fcdb62',\n",
       "  'SAC',\n",
       "  'BKN'],\n",
       " 'Utah Jazz @ Golden State Warriors': ['b9d34cf3-226f-44e2-8319-4a06930f680e',\n",
       "  'UTA',\n",
       "  'GSW'],\n",
       " 'Minnesota Timberwolves @ Los Angeles Lakers': ['c2f502c3-98d8-49f6-8848-c1817fc9e444',\n",
       "  'MIN',\n",
       "  'LAL']}"
      ]
     },
     "execution_count": 1,
     "metadata": {},
     "output_type": "execute_result"
    }
   ],
   "source": [
    "import requests\n",
    "import random\n",
    "import json\n",
    "\n",
    "def game_id():\n",
    "            #date = datetime.date.today().strftime('%Y/%m/%d')\n",
    "            date = '2024/04/07'\n",
    "            api_list = ['Tlzr3Og5bP7TcQkrqRHa12sZ5baCcFBJ7GdRZWEk',\n",
    "                        'lVPf4Uz74v8Lb7FRmFdwYQgecskhHXS3aODzdHy1',\n",
    "                        'cIm64jsILR6vy50AE2buetokdyXfAuH1aWQcdtGb',\n",
    "                        'ut8MLfXDVZ1gB3BsiKAhl4nYFFj2nAkwaWGPEXrk',\n",
    "                        'DGZWGVQNy29vEXDiVBRvg6klBgnu4DJ26fmFpcnB']\n",
    "            key = random.choice(api_list)\n",
    "            url = f\"https://api.sportradar.com/nba/trial/v8/en/games/{date}/schedule.json?api_key={key}\"\n",
    "            headers = {\"accept\": \"application/json\"}\n",
    "            reposnse = requests.get(url, headers=headers)\n",
    "            game = reposnse.json()\n",
    "            x = 0\n",
    "            todays_game_dict = {}\n",
    "            while IndexError is not True:\n",
    "                try:\n",
    "                    home_team = game['games'][x]['home']['name']\n",
    "                    away_team = game['games'][x]['away']['name']\n",
    "                    game_id = game['games'][x]['id']\n",
    "                    home_team_alias = game['games'][x]['home']['alias']\n",
    "                    away_team_alias = game['games'][x]['away']['alias']\n",
    "                    todays_game_dict.update({f'{away_team} @ {home_team}':[game_id,away_team_alias, home_team_alias]})\n",
    "                    x+=1     \n",
    "                except:\n",
    "                    if todays_game_dict == {}:\n",
    "                        print('error for game)id function or no games today')\n",
    "                    else:\n",
    "                        break\n",
    "            return todays_game_dict\n",
    "        \n",
    "game_id()\n",
    "\n",
    "\n",
    "\n",
    "\n"
   ]
  }
 ],
 "metadata": {
  "kernelspec": {
   "display_name": "Python 3",
   "language": "python",
   "name": "python3"
  },
  "language_info": {
   "codemirror_mode": {
    "name": "ipython",
    "version": 3
   },
   "file_extension": ".py",
   "mimetype": "text/x-python",
   "name": "python",
   "nbconvert_exporter": "python",
   "pygments_lexer": "ipython3",
   "version": "3.11.4"
  }
 },
 "nbformat": 4,
 "nbformat_minor": 2
}
