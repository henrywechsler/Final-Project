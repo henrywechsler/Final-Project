{
 "cells": [
  {
   "cell_type": "code",
   "execution_count": 14,
   "metadata": {},
   "outputs": [
    {
     "ename": "FileNotFoundError",
     "evalue": "[Errno 2] No such file or directory: 'Users/ianhanauer/Desktop/College/Python 151/Final-Project/Project/BackEnd/Nba Teams /ATL.png/'",
     "output_type": "error",
     "traceback": [
      "\u001b[0;31m---------------------------------------------------------------------------\u001b[0m",
      "\u001b[0;31mFileNotFoundError\u001b[0m                         Traceback (most recent call last)",
      "Cell \u001b[0;32mIn[14], line 8\u001b[0m\n\u001b[1;32m      6\u001b[0m \u001b[38;5;28;01mwhile\u001b[39;00m x \u001b[38;5;241m<\u001b[39m \u001b[38;5;241m32\u001b[39m:\n\u001b[1;32m      7\u001b[0m     team \u001b[38;5;241m=\u001b[39m nba_team_aliases[x]\n\u001b[0;32m----> 8\u001b[0m     im \u001b[38;5;241m=\u001b[39m \u001b[43mImage\u001b[49m\u001b[38;5;241;43m.\u001b[39;49m\u001b[43mopen\u001b[49m\u001b[43m(\u001b[49m\u001b[38;5;124;43mf\u001b[39;49m\u001b[38;5;124;43m'\u001b[39;49m\u001b[38;5;124;43mUsers/ianhanauer/Desktop/College/Python 151/Final-Project/Project/BackEnd/Nba Teams /\u001b[39;49m\u001b[38;5;132;43;01m{\u001b[39;49;00m\u001b[43mteam\u001b[49m\u001b[38;5;132;43;01m}\u001b[39;49;00m\u001b[38;5;124;43m.png/\u001b[39;49m\u001b[38;5;124;43m'\u001b[39;49m\u001b[43m)\u001b[49m \n\u001b[1;32m      9\u001b[0m     new_width  \u001b[38;5;241m=\u001b[39m \u001b[38;5;241m75\u001b[39m\n\u001b[1;32m     10\u001b[0m     new_height \u001b[38;5;241m=\u001b[39m \u001b[38;5;241m75\u001b[39m\n",
      "File \u001b[0;32m/Library/Frameworks/Python.framework/Versions/3.11/lib/python3.11/site-packages/PIL/Image.py:3247\u001b[0m, in \u001b[0;36mopen\u001b[0;34m(fp, mode, formats)\u001b[0m\n\u001b[1;32m   3244\u001b[0m     filename \u001b[38;5;241m=\u001b[39m fp\n\u001b[1;32m   3246\u001b[0m \u001b[38;5;28;01mif\u001b[39;00m filename:\n\u001b[0;32m-> 3247\u001b[0m     fp \u001b[38;5;241m=\u001b[39m builtins\u001b[38;5;241m.\u001b[39mopen(filename, \u001b[38;5;124m\"\u001b[39m\u001b[38;5;124mrb\u001b[39m\u001b[38;5;124m\"\u001b[39m)\n\u001b[1;32m   3248\u001b[0m     exclusive_fp \u001b[38;5;241m=\u001b[39m \u001b[38;5;28;01mTrue\u001b[39;00m\n\u001b[1;32m   3250\u001b[0m \u001b[38;5;28;01mtry\u001b[39;00m:\n",
      "\u001b[0;31mFileNotFoundError\u001b[0m: [Errno 2] No such file or directory: 'Users/ianhanauer/Desktop/College/Python 151/Final-Project/Project/BackEnd/Nba Teams /ATL.png/'"
     ]
    }
   ],
   "source": [
    "from PIL import Image\n",
    "\n",
    "x = 0\n",
    "nba_team_aliases = [\"ATL\",\"BOS\",\"BKN\",\"CHA\",\"CHI\",\"CLE\",\"DAL\",\"DEN\",\"DET\",\"GSW\",\"HOU\",\"IND\",\"LAC\",\"LAL\",\"MEM\",\"MIA\",\"MIL\",\"MIN\",\"NOP\",\"NYK\", \"OKC\", \"ORL\",\"PHI\",  \"PHX\", \"POR\", \"SAC\",\"SAS\", \"TOR\",\"UTA\",\"WAS\"]\n",
    "\n",
    "while x < 32:\n",
    "    team = nba_team_aliases[x]\n",
    "    im = Image.open(f'Users/ianhanauer/Desktop/College/Python 151/Final-Project/Project/BackEnd/Nba Teams /{team}.png/') \n",
    "    new_width  = 75\n",
    "    new_height = 75\n",
    "    im = im.resize((new_width, new_height), Image.Resampling.LANCZOS)\n",
    "    im.save(f' Users/ianhanauer/Desktop/College/Python 151/Final-Project/Project/BackEnd/Nba Teams/{team}.png/')\n"
   ]
  }
 ],
 "metadata": {
  "kernelspec": {
   "display_name": "Python 3",
   "language": "python",
   "name": "python3"
  },
  "language_info": {
   "codemirror_mode": {
    "name": "ipython",
    "version": 3
   },
   "file_extension": ".py",
   "mimetype": "text/x-python",
   "name": "python",
   "nbconvert_exporter": "python",
   "pygments_lexer": "ipython3",
   "version": "3.11.4"
  }
 },
 "nbformat": 4,
 "nbformat_minor": 2
}
