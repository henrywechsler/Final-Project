{
 "cells": [
  {
   "cell_type": "code",
   "execution_count": 2,
   "metadata": {},
   "outputs": [],
   "source": [
    "import requests\n",
    "from bs4 import BeautifulSoup as BS\n",
    "import html5lib\n",
    "import csv \n",
    "import json\n",
    "import time \n",
    "import datetime # got this from google  \n"
   ]
  },
  {
   "cell_type": "code",
   "execution_count": 3,
   "metadata": {},
   "outputs": [],
   "source": [
    "api_key = 'v4HTRgnYY94GBteg3f2py73d3wGVDgMD4sgLZtWP'\n",
    "version = 'v8'\n",
    "language_code = 'en'\n",
    "format = 'json'\n",
    "\n"
   ]
  },
  {
   "cell_type": "code",
   "execution_count": 33,
   "metadata": {},
   "outputs": [
    {
     "data": {
      "text/plain": [
       "['7ac81549-2da3-4935-b6ef-dc8a463b6274',\n",
       " 'b4676a70-002f-4f5d-bcf4-5fb898161b18',\n",
       " '19791516-2ffd-49b1-b9e1-4553eb6927ec',\n",
       " 'bd49874b-6c5e-446c-b080-61393caa5467',\n",
       " '90798c84-1881-46de-bc53-39387faecaba',\n",
       " '3ce1028a-6497-46a2-8cbd-ec55cba6f6fd',\n",
       " '87cf585a-a9e9-45e5-ae2d-472394faef4d',\n",
       " '99e1db3d-e12b-4529-b509-c5e78028a443',\n",
       " 'bd8133c5-9eb0-430d-829e-755702d23ace']"
      ]
     },
     "execution_count": 33,
     "metadata": {},
     "output_type": "execute_result"
    }
   ],
   "source": [
    "def Todays_schedule():\n",
    "    date = datetime.date.today().strftime('%Y/%m/%d')\n",
    "    url = f\"https://api.sportradar.com/nba/trial/v8/en/games/{date}/schedule.json?api_key=v4HTRgnYY94GBteg3f2py73d3wGVDgMD4sgLZtWP\"\n",
    "    headers = {\"accept\": \"application/json\"}\n",
    "    response = requests.get(url, headers=headers)\n",
    "    game = response.json()\n",
    "    x = 0\n",
    "    game_id_list =[]\n",
    "    while IndexError is not True:\n",
    "        try:\n",
    "                game_id = game['games'][x]['id']\n",
    "                game_id_list.append(game_id)\n",
    "                home_team = game['games'][x]['home']['name']\n",
    "                away_team = game['games'][x]['away']['name']\n",
    "                #print(f'{away_team} @ {home_team}')\n",
    "                x+=1\n",
    "    \n",
    "        except:\n",
    "            break\n",
    "    return game_id_list\n",
    "Todays_schedule()"
   ]
  },
  {
   "cell_type": "code",
   "execution_count": 48,
   "metadata": {},
   "outputs": [
    {
     "name": "stdout",
     "output_type": "stream",
     "text": [
      "Lakers: 4 | Raptors: 8\n",
      "Lakers Remaings Timouts: 7 | Raptors Remaings Timouts: 7\n",
      "________________________________________________\n"
     ]
    }
   ],
   "source": [
    "\n",
    "\n",
    "def Box_scores(game_id):\n",
    "    id = game_id\n",
    "    x=0\n",
    "    while IndexError is not True:\n",
    "        try:\n",
    "            url = f\"https://api.sportradar.com/nba/trial/v8/en/games/{id[x]}/boxscore.json?api_key=v4HTRgnYY94GBteg3f2py73d3wGVDgMD4sgLZtWP\"\n",
    "            headers = {\"accept\": \"application/json\"}\n",
    "            response = requests.get(url, headers=headers).json()\n",
    "            game = response\n",
    "            away_team = game['away']['name']\n",
    "            home_team = game['home']['name']\n",
    "            away_score = game['away']['points']\n",
    "            home_score = game['home']['points']\n",
    "            away_timeouts_remaning = game['away']['remaining_timeouts']\n",
    "            home_timeouts_remaning = game['home']['remaining_timeouts']\n",
    "        \n",
    "            \n",
    "            print(f'{away_team}: {away_score} | {home_team}: {home_score}')\n",
    "            print(f'{away_team} Remaings Timouts: {away_timeouts_remaning} | {home_team} Remaings Timouts: {home_timeouts_remaning}')\n",
    "            print('________________________________________________')\n",
    "            x+=1\n",
    "            \n",
    "        except:\n",
    "            break\n",
    "    \n",
    "Box_scores(Todays_schedule())   \n",
    "\n"
   ]
  },
  {
   "cell_type": "code",
   "execution_count": 34,
   "metadata": {},
   "outputs": [
    {
     "name": "stdout",
     "output_type": "stream",
     "text": [
      "Thunder: 0 | 76ers: 0\n",
      "[] | []\n",
      "Thunder Remaings Timouts: 0 | 76ers Remaings Timouts: 0\n",
      "________________________________________________\n"
     ]
    }
   ],
   "source": [
    "game_id= Todays_schedule()\n",
    "\n",
    "\n",
    "url = f\"https://api.sportradar.com/nba/trial/v8/en/games/19791516-2ffd-49b1-b9e1-4553eb6927ec/boxscore.json?api_key=v4HTRgnYY94GBteg3f2py73d3wGVDgMD4sgLZtWP\"\n",
    "headers = {\"accept\": \"application/json\"}\n",
    "response = requests.get(url, headers=headers).json()\n",
    "\n",
    "game = response\n",
    "away_team = game['away']['name']\n",
    "home_team = game['home']['name']\n",
    "away_score = game['away']['points']\n",
    "home_score = game['home']['points']\n",
    "away_timeouts_remaning = game['away']['remaining_timeouts']\n",
    "home_timeouts_remaning = game['home']['remaining_timeouts']\n",
    "away_scoring = game['away']['scoring']\n",
    "home_scoring = game['home']['scoring']\n",
    "\n",
    "print(f'{away_team}: {away_score} | {home_team}: {home_score}')\n",
    "print(f'{away_scoring} | {home_scoring}')\n",
    "print(f'{away_team} Remaings Timouts: {away_timeouts_remaning} | {home_team} Remaings Timouts: {home_timeouts_remaning}')\n",
    "print('________________________________________________')\n",
    "        \n",
    "\n",
    "\n",
    "\n",
    "\n",
    "\n"
   ]
  }
 ],
 "metadata": {
  "kernelspec": {
   "display_name": "Python 3",
   "language": "python",
   "name": "python3"
  },
  "language_info": {
   "codemirror_mode": {
    "name": "ipython",
    "version": 3
   },
   "file_extension": ".py",
   "mimetype": "text/x-python",
   "name": "python",
   "nbconvert_exporter": "python",
   "pygments_lexer": "ipython3",
   "version": "3.11.4"
  }
 },
 "nbformat": 4,
 "nbformat_minor": 2
}
