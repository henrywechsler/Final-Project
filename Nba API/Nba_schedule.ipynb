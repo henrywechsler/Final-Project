{
 "cells": [
  {
   "cell_type": "code",
   "execution_count": 2,
   "metadata": {},
   "outputs": [],
   "source": [
    "import requests\n",
    "from bs4 import BeautifulSoup as BS\n",
    "import html5lib\n",
    "import csv \n",
    "import json\n",
    "import time \n",
    "import datetime # got this from google  \n"
   ]
  },
  {
   "cell_type": "code",
   "execution_count": 3,
   "metadata": {},
   "outputs": [],
   "source": [
    "api_key = 'v4HTRgnYY94GBteg3f2py73d3wGVDgMD4sgLZtWP'\n",
    "version = 'v8'\n",
    "language_code = 'en'\n",
    "format = 'json'\n",
    "\n"
   ]
  },
  {
   "cell_type": "code",
   "execution_count": 7,
   "metadata": {},
   "outputs": [
    {
     "data": {
      "text/plain": [
       "['7bac8648-0372-436f-a8b3-90567f732aae',\n",
       " 'c4ab090e-9a7d-416a-b949-f7f5b5d8f339',\n",
       " '16aed93b-cb1f-46a0-b68e-513f4d61faaa',\n",
       " '1e59b606-e2e3-46ed-b9ed-be115bd160c5',\n",
       " 'd07098c0-a722-4ebe-9787-fc06bf26acb5',\n",
       " '5b9775f6-61e8-4407-aaee-eb2b8c9a27d7',\n",
       " '6af09b2d-0483-4616-a2ec-b2f5d34ba3c9',\n",
       " '7ac5fe68-6962-4f28-9bbb-85aa137f00cd',\n",
       " 'afb6b532-b001-4889-b4c6-ded47e4226b7']"
      ]
     },
     "execution_count": 7,
     "metadata": {},
     "output_type": "execute_result"
    }
   ],
   "source": [
    "def Todays_schedule_id():\n",
    "    date = datetime.date.today().strftime('%Y/%m/%d')\n",
    "    url = f\"https://api.sportradar.com/nba/trial/v8/en/games/{date}/schedule.json?api_key=v4HTRgnYY94GBteg3f2py73d3wGVDgMD4sgLZtWP\"\n",
    "    headers = {\"accept\": \"application/json\"}\n",
    "    game = requests.get(url, headers=headers).json()\n",
    "    x = 0\n",
    "    game_id_list =[]\n",
    "    while IndexError is not True:\n",
    "        try:\n",
    "                game_id = game['games'][x]['id']\n",
    "                game_id_list.append(game_id)\n",
    "                x+=1\n",
    "                \n",
    "        except:\n",
    "            break\n",
    "    return game_id_list\n",
    "Todays_schedule_id()"
   ]
  },
  {
   "cell_type": "code",
   "execution_count": 8,
   "metadata": {},
   "outputs": [
    {
     "data": {
      "text/plain": [
       "['Portland Trail Blazers @ Charlotte Hornets',\n",
       " 'Los Angeles Lakers @ Washington Wizards',\n",
       " 'Detroit Pistons @ Atlanta Hawks',\n",
       " 'Oklahoma City Thunder @ Boston Celtics',\n",
       " 'Indiana Pacers @ Brooklyn Nets',\n",
       " 'Orlando Magic @ New Orleans Pelicans',\n",
       " 'Memphis Grizzlies @ Milwaukee Bucks',\n",
       " 'Toronto Raptors @ Minnesota Timberwolves',\n",
       " 'Cleveland Cavaliers @ Phoenix Suns']"
      ]
     },
     "execution_count": 8,
     "metadata": {},
     "output_type": "execute_result"
    }
   ],
   "source": [
    "def Todays_schedule():\n",
    "    date = datetime.date.today().strftime('%Y/%m/%d')\n",
    "    url = f\"https://api.sportradar.com/nba/trial/v8/en/games/{date}/schedule.json?api_key=v4HTRgnYY94GBteg3f2py73d3wGVDgMD4sgLZtWP\"\n",
    "    headers = {\"accept\": \"application/json\"}\n",
    "    game = requests.get(url, headers=headers).json()\n",
    "    x = 0\n",
    "    Todays_matchups = [] \n",
    "    while IndexError is not True:\n",
    "        try:\n",
    "                home_team = game['games'][x]['home']['name']\n",
    "                away_team = game['games'][x]['away']['name']\n",
    "                Todays_matchups.append(f'{away_team} @ {home_team}')\n",
    "                x+=1\n",
    "    \n",
    "        except:\n",
    "            break\n",
    "    return Todays_matchups\n",
    "Todays_schedule()"
   ]
  },
  {
   "cell_type": "code",
   "execution_count": 13,
   "metadata": {},
   "outputs": [
    {
     "name": "stdout",
     "output_type": "stream",
     "text": [
      "Trail Blazers: 0 | Hornets: 0\n",
      "Trail Blazers Remaings Timouts: 6 | Hornets Remaings Timouts: 6\n",
      "________________________________________________\n",
      "Lakers: 0 | Wizards: 0\n",
      "Lakers Remaings Timouts: 6 | Wizards Remaings Timouts: 6\n",
      "________________________________________________\n",
      "Pistons: 0 | Hawks: 0\n",
      "Pistons Remaings Timouts: 6 | Hawks Remaings Timouts: 6\n",
      "________________________________________________\n"
     ]
    }
   ],
   "source": [
    "\n",
    "\n",
    "def Box_scores(game_id):\n",
    "    id = game_id\n",
    "    x= 0\n",
    "    while IndexError is not True:\n",
    "        try:\n",
    "            url = f\"https://api.sportradar.com/nba/trial/v8/en/games/{id[x]}/boxscore.json?api_key=v4HTRgnYY94GBteg3f2py73d3wGVDgMD4sgLZtWP\"\n",
    "            headers = {\"accept\": \"application/json\"}\n",
    "            game = requests.get(url, headers=headers).json()\n",
    "            away_team = game['away']['name']\n",
    "            home_team = game['home']['name']\n",
    "            away_score = game['away']['points']\n",
    "            home_score = game['home']['points']\n",
    "            away_timeouts_remaning = game['away']['remaining_timeouts']\n",
    "            home_timeouts_remaning = game['home']['remaining_timeouts']\n",
    "        \n",
    "            \n",
    "            print(f'{away_team}: {away_score} | {home_team}: {home_score}')\n",
    "            print(f'{away_team} Remaings Timouts: {away_timeouts_remaning} | {home_team} Remaings Timouts: {home_timeouts_remaning}')\n",
    "            print('________________________________________________')\n",
    "            x+=1\n",
    "            \n",
    "        except:\n",
    "            break\n",
    "    \n",
    "Box_scores(Todays_schedule_id())   \n",
    "\n"
   ]
  },
  {
   "cell_type": "code",
   "execution_count": 34,
   "metadata": {},
   "outputs": [
    {
     "name": "stdout",
     "output_type": "stream",
     "text": [
      "Thunder: 0 | 76ers: 0\n",
      "[] | []\n",
      "Thunder Remaings Timouts: 0 | 76ers Remaings Timouts: 0\n",
      "________________________________________________\n"
     ]
    }
   ],
   "source": [
    "game_id= Todays_schedule()\n",
    "\n",
    "\n",
    "url = f\"https://api.sportradar.com/nba/trial/v8/en/games/19791516-2ffd-49b1-b9e1-4553eb6927ec/boxscore.json?api_key=v4HTRgnYY94GBteg3f2py73d3wGVDgMD4sgLZtWP\"\n",
    "headers = {\"accept\": \"application/json\"}\n",
    "response = requests.get(url, headers=headers).json()\n",
    "\n",
    "game = response\n",
    "away_team = game['away']['name']\n",
    "home_team = game['home']['name']\n",
    "away_score = game['away']['points']\n",
    "home_score = game['home']['points']\n",
    "away_timeouts_remaning = game['away']['remaining_timeouts']\n",
    "home_timeouts_remaning = game['home']['remaining_timeouts']\n",
    "away_scoring = game['away']['scoring']\n",
    "home_scoring = game['home']['scoring']\n",
    "\n",
    "print(f'{away_team}: {away_score} | {home_team}: {home_score}')\n",
    "print(f'{away_scoring} | {home_scoring}')\n",
    "print(f'{away_team} Remaings Timouts: {away_timeouts_remaning} | {home_team} Remaings Timouts: {home_timeouts_remaning}')\n",
    "print('________________________________________________')\n",
    "        \n",
    "\n",
    "\n",
    "\n",
    "\n",
    "\n"
   ]
  },
  {
   "cell_type": "code",
   "execution_count": 59,
   "metadata": {},
   "outputs": [
    {
     "ename": "KeyError",
     "evalue": "'name'",
     "output_type": "error",
     "traceback": [
      "\u001b[0;31m---------------------------------------------------------------------------\u001b[0m",
      "\u001b[0;31mKeyError\u001b[0m                                  Traceback (most recent call last)",
      "Cell \u001b[0;32mIn[59], line 49\u001b[0m\n\u001b[1;32m      9\u001b[0m   \u001b[38;5;28mprint\u001b[39m(game[\u001b[38;5;124m'\u001b[39m\u001b[38;5;124mperiods\u001b[39m\u001b[38;5;124m'\u001b[39m][\u001b[38;5;241m0\u001b[39m][\u001b[38;5;124m'\u001b[39m\u001b[38;5;124mevents\u001b[39m\u001b[38;5;124m'\u001b[39m][x][\u001b[38;5;124m'\u001b[39m\u001b[38;5;124mname\u001b[39m\u001b[38;5;124m'\u001b[39m])\n\u001b[1;32m     10\u001b[0m \u001b[38;5;250m  \u001b[39m\u001b[38;5;124;03m\"\"\"if quarter == 1:\u001b[39;00m\n\u001b[1;32m     11\u001b[0m \u001b[38;5;124;03m    while IndexError is not True:\u001b[39;00m\n\u001b[1;32m     12\u001b[0m \u001b[38;5;124;03m        try:\u001b[39;00m\n\u001b[0;32m   (...)\u001b[0m\n\u001b[1;32m     44\u001b[0m \u001b[38;5;124;03m        except:\u001b[39;00m\n\u001b[1;32m     45\u001b[0m \u001b[38;5;124;03m          break \"\"\"\u001b[39;00m\n\u001b[0;32m---> 49\u001b[0m \u001b[43mplay_by_play\u001b[49m\u001b[43m(\u001b[49m\u001b[43m)\u001b[49m\n",
      "Cell \u001b[0;32mIn[59], line 9\u001b[0m, in \u001b[0;36mplay_by_play\u001b[0;34m()\u001b[0m\n\u001b[1;32m      7\u001b[0m quarter \u001b[38;5;241m=\u001b[39m game[\u001b[38;5;124m'\u001b[39m\u001b[38;5;124mquarter\u001b[39m\u001b[38;5;124m'\u001b[39m]\n\u001b[1;32m      8\u001b[0m clock \u001b[38;5;241m=\u001b[39m game[\u001b[38;5;124m'\u001b[39m\u001b[38;5;124mclock\u001b[39m\u001b[38;5;124m'\u001b[39m]\n\u001b[0;32m----> 9\u001b[0m \u001b[38;5;28mprint\u001b[39m(\u001b[43mgame\u001b[49m\u001b[43m[\u001b[49m\u001b[38;5;124;43m'\u001b[39;49m\u001b[38;5;124;43mperiods\u001b[39;49m\u001b[38;5;124;43m'\u001b[39;49m\u001b[43m]\u001b[49m\u001b[43m[\u001b[49m\u001b[38;5;241;43m0\u001b[39;49m\u001b[43m]\u001b[49m\u001b[43m[\u001b[49m\u001b[38;5;124;43m'\u001b[39;49m\u001b[38;5;124;43mevents\u001b[39;49m\u001b[38;5;124;43m'\u001b[39;49m\u001b[43m]\u001b[49m\u001b[43m[\u001b[49m\u001b[43mx\u001b[49m\u001b[43m]\u001b[49m\u001b[43m[\u001b[49m\u001b[38;5;124;43m'\u001b[39;49m\u001b[38;5;124;43mname\u001b[39;49m\u001b[38;5;124;43m'\u001b[39;49m\u001b[43m]\u001b[49m)\n\u001b[1;32m     10\u001b[0m \u001b[38;5;250m\u001b[39m\u001b[38;5;124;03m\"\"\"if quarter == 1:\u001b[39;00m\n\u001b[1;32m     11\u001b[0m \u001b[38;5;124;03m  while IndexError is not True:\u001b[39;00m\n\u001b[1;32m     12\u001b[0m \u001b[38;5;124;03m      try:\u001b[39;00m\n\u001b[0;32m   (...)\u001b[0m\n\u001b[1;32m     44\u001b[0m \u001b[38;5;124;03m      except:\u001b[39;00m\n\u001b[1;32m     45\u001b[0m \u001b[38;5;124;03m        break \"\"\"\u001b[39;00m\n",
      "\u001b[0;31mKeyError\u001b[0m: 'name'"
     ]
    }
   ],
   "source": [
    "def play_by_play():\n",
    "  id = '89fa8b67-a2e5-459d-8769-decaac17c2ae'\n",
    "  x= 0\n",
    "  url = f\"https://api.sportradar.com/nba/trial/v8/en/games/{id}/pbp.json?api_key=v4HTRgnYY94GBteg3f2py73d3wGVDgMD4sgLZtWP\"\n",
    "  headers = {\"accept\": \"application/json\"}\n",
    "  game = requests.get(url, headers=headers).json()\n",
    "  quarter = game['quarter']\n",
    "  clock = game['clock']\n",
    "  print(game['periods'][0]['events'][x]['name'])\n",
    "  \"\"\"if quarter == 1:\n",
    "    while IndexError is not True:\n",
    "        try:\n",
    "          description = game['periods'][0]['events'][x]['description']\n",
    "          time_it_occured = game['clock']\n",
    "          team = game['periods'][0]['events'][x]['market']\n",
    "          x+=1\n",
    "        except:\n",
    "          pass\n",
    "  elif quarter == 2:\n",
    "    while IndexError is not True:\n",
    "        try:\n",
    "          description = game['periods'][1]['events'][x]['description']\n",
    "          time_it_occured = game['clock']\n",
    "          team = game['periods'][0]['events'][x]['market']\n",
    "          x+=1\n",
    "        except:\n",
    "          pass  \n",
    "  elif quarter == 3:\n",
    "    while IndexError is not True:\n",
    "        try:\n",
    "          description = game['periods'][2]['events'][x]['description']\n",
    "          time_it_occured = game['clock']\n",
    "          team = game['periods'][0]['events'][x]['market']\n",
    "          x+=1\n",
    "        except:\n",
    "          pass\n",
    "  elif quarter == 4:\n",
    "    while IndexError is not True:\n",
    "        try:\n",
    "          description = game['periods'][0]['events'][x]['description']\n",
    "          time_it_occured = game['clock']\n",
    "          team = game['periods'][0]['events'][x]['market']\n",
    "          x+=1\n",
    "        except:\n",
    "          break \"\"\"\n",
    "\n",
    "\n",
    "\n",
    "play_by_play()"
   ]
  }
 ],
 "metadata": {
  "kernelspec": {
   "display_name": "Python 3",
   "language": "python",
   "name": "python3"
  },
  "language_info": {
   "codemirror_mode": {
    "name": "ipython",
    "version": 3
   },
   "file_extension": ".py",
   "mimetype": "text/x-python",
   "name": "python",
   "nbconvert_exporter": "python",
   "pygments_lexer": "ipython3",
   "version": "3.11.4"
  }
 },
 "nbformat": 4,
 "nbformat_minor": 2
}
